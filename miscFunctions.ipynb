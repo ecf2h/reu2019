{
 "cells": [
  {
   "cell_type": "code",
   "execution_count": 2,
   "metadata": {},
   "outputs": [],
   "source": [
    "def getR2(m):\n",
    "    \"\"\"Return a value for the radius of the secondary given the mass.\n",
    "    Determined using Wilson & Nordhaus (2019), Eq. 9.\n",
    "    \n",
    "    Keyword arguments:\n",
    "    m -- mass\n",
    "    \"\"\"\n",
    "    import math\n",
    "    from math import log\n",
    "    if (m > 0.077):\n",
    "        r = m**0.92\n",
    "    elif (m < 0.0026):\n",
    "        r = 0.10045 # r_jupiter\n",
    "    else:\n",
    "        r = 0.117\n",
    "        r = r - 0.054*(log(m/0.0026)**2)\n",
    "        r = r + 0.024*(log(m/0.0026)**3)\n",
    "    return r"
   ]
  },
  {
   "cell_type": "code",
   "execution_count": 1,
   "metadata": {},
   "outputs": [],
   "source": [
    "def getRShred(p, m2):\n",
    "    import mesa_reader as mr\n",
    "    from ipynb.fs.full.miscFunctions import getR2\n",
    "    \n",
    "    coreMass = p.he_core_mass + p.c_core_mass + p.o_core_mass + p.si_core_mass + p.fe_core_mass\n",
    "    coreMass = coreMass*1.989e33\n",
    "    \n",
    "    r2 = getR2(m2)\n",
    "    m2 = m2*1.989e33 # units\n",
    "    r2 = r2*69.551e9 # units\n",
    "    rshred = r2 * (2*coreMass/m2)**(1/3)\n",
    "    \n",
    "    return rshred"
   ]
  },
  {
   "cell_type": "code",
   "execution_count": null,
   "metadata": {},
   "outputs": [],
   "source": []
  }
 ],
 "metadata": {
  "kernelspec": {
   "display_name": "Python 3",
   "language": "python",
   "name": "python3"
  },
  "language_info": {
   "codemirror_mode": {
    "name": "ipython",
    "version": 3
   },
   "file_extension": ".py",
   "mimetype": "text/x-python",
   "name": "python",
   "nbconvert_exporter": "python",
   "pygments_lexer": "ipython3",
   "version": "3.7.3"
  }
 },
 "nbformat": 4,
 "nbformat_minor": 2
}
