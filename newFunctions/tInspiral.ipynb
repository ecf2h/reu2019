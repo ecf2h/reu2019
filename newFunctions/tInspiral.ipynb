{
 "cells": [
  {
   "cell_type": "code",
   "execution_count": 1,
   "metadata": {},
   "outputs": [],
   "source": [
    "def getR2(m):\n",
    "    \"\"\"Return a value for the radius of the secondary given the mass.\n",
    "    Determined using Wilson & Nordhaus (2019), Eq. 9.\n",
    "    \n",
    "    Keyword arguments:\n",
    "    m -- mass\n",
    "    \"\"\"\n",
    "    import math\n",
    "    from math import log\n",
    "    if (m > 0.077):\n",
    "        r = m**0.92\n",
    "    elif (m < 0.0026):\n",
    "        r = 0.10045 # r_jupiter\n",
    "    else:\n",
    "        r = 0.117\n",
    "        r = r - 0.054*(log(m/0.0026)**2)\n",
    "        r = r + 0.024*(log(m/0.0026)**3)\n",
    "    return r"
   ]
  },
  {
   "cell_type": "code",
   "execution_count": 5,
   "metadata": {},
   "outputs": [],
   "source": [
    "def getTInspiral(p, m2):\n",
    "    \"\"\"Return an array containing the inspiral time-scale values.\n",
    "    The outermost 100 points are removed.\n",
    "    \n",
    "    Keyword arguments:\n",
    "    p -- MESA profile\n",
    "    m2 -- mass of the secondary\n",
    "    \"\"\"\n",
    "    import mesa_reader as mr\n",
    "    import matplotlib.pylab as plt\n",
    "    import numpy as np\n",
    "    import os\n",
    "    from math import log\n",
    "    from scipy.integrate import cumtrapz\n",
    "    import math\n",
    "\n",
    "    # import function from another file\n",
    "    from ipynb.fs.full.getProfiles import getMaxRadiusProfile\n",
    "\n",
    "    G = 6.67408e-11 # gravitational constant\n",
    "    # change G to cgs units\n",
    "    G = G * 1e3\n",
    "\n",
    "    coreMass = p.he_core_mass + p.c_core_mass + p.o_core_mass + p.si_core_mass + p.fe_core_mass\n",
    "    # change from Msuns to grams\n",
    "    coreMass = coreMass*1.989e33\n",
    "\n",
    "    radius = p.radius\n",
    "    radius = radius*69.551e9\n",
    "\n",
    "    # setting up constants\n",
    "    r2 = getR2(m2)\n",
    "    m2 = m2*1.989e33 # units\n",
    "    r2 = r2*69.551e9 # units\n",
    "    xi = 4\n",
    "    rshred = r2 * (2*coreMass/m2)**(1/3)\n",
    "    # rshred = r2 * math.pow(2*coreMass/m2, 0.33333333)\n",
    "    k = 4 * xi * math.pi * G * m2\n",
    "\n",
    "    # density\n",
    "    rho = p.logRho\n",
    "    rho = 10**rho\n",
    "\n",
    "    # masses\n",
    "    masses = p.mass\n",
    "    masses = masses*1.989e33\n",
    "\n",
    "    # keplerian velocity\n",
    "    vkep_r = np.sqrt(G * masses / radius)\n",
    "\n",
    "    # dM/dr\n",
    "    dMdr = np.diff(masses) / np.diff(radius)\n",
    "\n",
    "    # make all the array sizes the same\n",
    "    vkep_r = vkep_r[:-1]\n",
    "    radius = radius[:-1]\n",
    "    rho = rho[:-1]\n",
    "    masses = masses[:-1]\n",
    "\n",
    "    # integrand\n",
    "    integrand = (dMdr - (masses / radius)) * vkep_r / (k * radius * rho)\n",
    "\n",
    "    radius = radius[100:]\n",
    "    integrand = integrand[100:]\n",
    "    \n",
    "    # actually integrate\n",
    "    tInspiral = cumtrapz(y=integrand, x=radius)\n",
    "    \n",
    "    return np.flip(tInspiral)"
   ]
  },
  {
   "cell_type": "code",
   "execution_count": 15,
   "metadata": {},
   "outputs": [],
   "source": [
    "def plotTInspiral(p, m2, label):\n",
    "    \"\"\"Plot the inspiral time scale.\n",
    "    \n",
    "    Keyword arguments:\n",
    "    p -- MESA profile\n",
    "    m2 -- mass of the secondary\n",
    "    label -- text appearing in the legend\n",
    "    \"\"\"\n",
    "    import matplotlib.pylab as plt\n",
    "    import mesa_reader as mr\n",
    "    import numpy as np\n",
    "    \n",
    "    radius = p.radius\n",
    "    radius = radius*69.551e9\n",
    "    radius = radius[100:-2]\n",
    "    radius = np.flip(radius)\n",
    "    \n",
    "    tInspiral = getTInspiral(p, m2)\n",
    "    \n",
    "    point = plt.plot(radius[0], tInspiral[0], 'o')\n",
    "    y = plt.getp(point[0], 'color')\n",
    "    plt.loglog(radius, tInspiral, label=label, color=y, linestyle=':')"
   ]
  },
  {
   "cell_type": "code",
   "execution_count": 16,
   "metadata": {},
   "outputs": [
    {
     "name": "stdout",
     "output_type": "stream",
     "text": [
      "[[2.8670508717224763]]\n",
      "[array([2050])]\n",
      "-----\n",
      "[2.8670508717224763]\n",
      "2050\n",
      "Looking for the profile closest to model #2050 in /Users/emilyflynn/Desktop/25M_tests/15M_logs\n",
      "Actual model number: 2050\n",
      "Difference between target and actual model: 0\n",
      "File path: /Users/emilyflynn/Desktop/25M_tests/15M_logs/profile48.data\n",
      "\n"
     ]
    },
    {
     "data": {
      "text/plain": [
       "<matplotlib.legend.Legend at 0x151653aef0>"
      ]
     },
     "execution_count": 16,
     "metadata": {},
     "output_type": "execute_result"
    },
    {
     "data": {
      "image/png": "[encoded data removed]",
      "text/plain": [
       "<Figure size 432x288 with 1 Axes>"
      ]
     },
     "metadata": {
      "needs_background": "light"
     },
     "output_type": "display_data"
    }
   ],
   "source": [
    "# test\n",
    "from ipynb.fs.full.getProfiles import getMaxRadiusProfile\n",
    "import matplotlib.pylab as plt\n",
    "\n",
    "directory = '/Users/emilyflynn/Desktop/25M_tests/15M_logs'\n",
    "p = getMaxRadiusProfile(directory)\n",
    "\n",
    "m2s = [0.005, 0.1, 0.5, 1, 5, 7.5]\n",
    "\n",
    "for i in range(len(m2s)):\n",
    "    s = str(m2s[i]) + 'M'\n",
    "    plotTInspiral(p, m2s[i], s)\n",
    "\n",
    "plt.xlim(1e9, 1e14)\n",
    "\n",
    "plt.xlabel('Radius [cm]')\n",
    "plt.ylabel('Time [s]')\n",
    "\n",
    "plt.legend()"
   ]
  },
  {
   "cell_type": "code",
   "execution_count": null,
   "metadata": {},
   "outputs": [],
   "source": []
  },
  {
   "cell_type": "code",
   "execution_count": null,
   "metadata": {},
   "outputs": [],
   "source": []
  }
 ],
 "metadata": {
  "kernelspec": {
   "display_name": "Python 3",
   "language": "python",
   "name": "python3"
  },
  "language_info": {
   "codemirror_mode": {
    "name": "ipython",
    "version": 3
   },
   "file_extension": ".py",
   "mimetype": "text/x-python",
   "name": "python",
   "nbconvert_exporter": "python",
   "pygments_lexer": "ipython3",
   "version": "3.7.3"
  }
 },
 "nbformat": 4,
 "nbformat_minor": 2
}
