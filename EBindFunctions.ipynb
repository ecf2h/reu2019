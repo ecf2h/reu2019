{
 "cells": [
  {
   "cell_type": "code",
   "execution_count": null,
   "metadata": {},
   "outputs": [],
   "source": [
    "def getEbind(p):\n",
    "    \"\"\"Get the binding energy.\n",
    "    \n",
    "    Keyword arguments:\n",
    "    p -- MESA profile\n",
    "    \"\"\"\n",
    "    import mesa_reader as mr\n",
    "    import matplotlib.pylab as plt\n",
    "    import numpy as np\n",
    "    import os\n",
    "    from math import log\n",
    "    from scipy.integrate import cumtrapz\n",
    "\n",
    "    G = 6.67408e-11 # gravitational constant\n",
    "    # change G to cgs units\n",
    "    G = G * 1e3\n",
    "    \n",
    "    r = p.radius     # bring in the radius\n",
    "\n",
    "    r = r*69.551e9   # change units to cm\n",
    "\n",
    "    m = p.mass\n",
    "    m = m*1.989e33   # change units to grams\n",
    "\n",
    "    # integrate\n",
    "    integrand = []\n",
    "\n",
    "    for i in range(len(m)):\n",
    "        x = G * m[i] / r[i]\n",
    "        integrand.append(x)\n",
    "\n",
    "    ebind = -cumtrapz(y=integrand, x=m)\n",
    "    \n",
    "    return ebind"
   ]
  },
  {
   "cell_type": "code",
   "execution_count": null,
   "metadata": {},
   "outputs": [],
   "source": [
    "def plotEbind(p, label):\n",
    "    \"\"\"Plot the binding energy.\n",
    "    \n",
    "    Keyword arguments:\n",
    "    p -- MESA profile\n",
    "    label -- text appearing in legend\n",
    "    \"\"\"\n",
    "    import mesa_reader as mr\n",
    "    import matplotlib.pylab as plt\n",
    "    import numpy as np\n",
    "    import os\n",
    "    from math import log\n",
    "    from scipy.integrate import cumtrapz\n",
    "    from ipynb.fs.full.EBindFunctions import getEbind\n",
    "    \n",
    "    r = p.radius     # bring in the radius\n",
    "\n",
    "    r = r*69.551e9   # change units to cm\n",
    "    r = r[100:]      # cut off the first 100 points - takes care of surface weirdness\n",
    "\n",
    "    ebind = getEbind(p)\n",
    "    ebind = ebind[100:]\n",
    "    \n",
    "    plt.loglog(r[:-1], ebind, label=label)\n",
    "    return"
   ]
  }
 ],
 "metadata": {
  "kernelspec": {
   "display_name": "Python 3",
   "language": "python",
   "name": "python3"
  },
  "language_info": {
   "codemirror_mode": {
    "name": "ipython",
    "version": 3
   },
   "file_extension": ".py",
   "mimetype": "text/x-python",
   "name": "python",
   "nbconvert_exporter": "python",
   "pygments_lexer": "ipython3",
   "version": "3.7.3"
  }
 },
 "nbformat": 4,
 "nbformat_minor": 2
}
