{
 "cells": [
  {
   "cell_type": "code",
   "execution_count": null,
   "metadata": {},
   "outputs": [],
   "source": [
    "def getTConv(p):\n",
    "    \"\"\"Return an array containing the convective time-scale values.\n",
    "    The outermost 100 points are removed.\n",
    "    \n",
    "    Keyword arguments:\n",
    "    p -- MESA profile\n",
    "    \"\"\"\n",
    "    import mesa_reader as mr\n",
    "    import matplotlib.pylab as plt\n",
    "    import numpy as np\n",
    "    from math import log\n",
    "    from scipy.integrate import cumtrapz\n",
    "    \n",
    "    r = p.radius     # bring in the radius\n",
    "    \n",
    "    r = r*69.551e9   # change units to cm\n",
    "    r = r[100:]\n",
    "\n",
    "    v = p.log_conv_vel\n",
    "    \n",
    "    v = [i if i>1e-8 else 1e-8 for i in v] # if having issues with v being too close to 0\n",
    "    \n",
    "    v = np.power(10, v) # un-log it\n",
    "    v = -1/v            # it'll be integrated like this\n",
    "    v = v[100:]\n",
    "\n",
    "    # integrate\n",
    "    tconv = []\n",
    "    tconv = cumtrapz(y=v, x=r)\n",
    "\n",
    "    return tconv[:-1]"
   ]
  },
  {
   "cell_type": "code",
   "execution_count": null,
   "metadata": {},
   "outputs": [],
   "source": [
    "def plotTConv(p, nearZero, label):\n",
    "    \"\"\"Plot the convective time-scale.\n",
    "    \n",
    "    Keyword arguments:\n",
    "    p -- MESA profile\n",
    "    nearZero -- boolean of whether any values are near zero\n",
    "    label -- text appearing in legend\n",
    "    \"\"\"\n",
    "    import mesa_reader as mr\n",
    "    import matplotlib.pylab as plt\n",
    "    import numpy as np\n",
    "    from math import log\n",
    "    from scipy.integrate import cumtrapz\n",
    "    \n",
    "    r = p.radius\n",
    "    \n",
    "    r = r*69.551e9   # change units to cm\n",
    "\n",
    "    # integrate\n",
    "    tconv = getTConv(p)\n",
    "    \n",
    "    plt.loglog(r[100:-2], tconv, label=label)\n",
    "    return"
   ]
  }
 ],
 "metadata": {
  "kernelspec": {
   "display_name": "Python 3",
   "language": "python",
   "name": "python3"
  },
  "language_info": {
   "codemirror_mode": {
    "name": "ipython",
    "version": 3
   },
   "file_extension": ".py",
   "mimetype": "text/x-python",
   "name": "python",
   "nbconvert_exporter": "python",
   "pygments_lexer": "ipython3",
   "version": "3.7.3"
  }
 },
 "nbformat": 4,
 "nbformat_minor": 2
}
