{
 "cells": [
  {
   "cell_type": "code",
   "execution_count": 2,
   "metadata": {},
   "outputs": [],
   "source": [
    "from ipynb.fs.full.profileFunctions import getMaxRadiusProfile\n",
    "from ipynb.fs.full.convZoneFunctions import getRadius\n",
    "from ipynb.fs.full.convZoneFunctions import findZone\n",
    "from ipynb.fs.full.convZoneFunctions import getMaxRadius\n",
    "from ipynb.fs.full.convZoneFunctions import normalizeRadius\n",
    "from ipynb.fs.full.convZoneFunctions import getConvZones\n",
    "from ipynb.fs.full.convZoneFunctions import normalizeRadius\n",
    "from ipynb.fs.full.convZoneFunctions import plotConvZonesConstPri\n",
    "\n",
    "import mesa_reader as mr\n",
    "import matplotlib.pylab as plt\n",
    "import numpy as np\n",
    "import os\n",
    "from math import log\n",
    "from scipy.integrate import cumtrapz\n",
    "import math"
   ]
  },
  {
   "cell_type": "code",
   "execution_count": 5,
   "metadata": {},
   "outputs": [
    {
     "name": "stdout",
     "output_type": "stream",
     "text": [
      "Looking for the profile closest to model #905 in /Users/emilyflynn/Desktop/25M_tests/70M_logs\n",
      "File path: /Users/emilyflynn/Desktop/25M_tests/70M_logs/LOGS_convert/profile5.data\n",
      "['removeLimited', 'removeLimited', 'removeLimited', 'removeLimited', 'removeLimited', 'removeLimited', 'removeLimited', 'removeLimited', 'removeLimited', 'removeLimited', 'removeLimited', 'removeLimited', 'removeLimited', 'removeLimited', 'removeLimited', 'removeLimited', 'removeLimited', 'removeLimited', 'removeLimited', 'removeLimited', 'removeLimited', 'removeLimited', 'removeLimited', 'removeLimited', 'removeLimited', 'removeLimited', 'removeLimited', 'removeLimited', 'removeLimited', 'removeLimited', 'removeLimited', 'removeLimited', 'removeLimited', 'removeLimited', 'removeLimited', 'removeLimited', 'removeLimited', 'removeLimited', 'removeLimited', 'removeLimited', 'removeLimited', 'removeLimited', 'removeLimited', 'removeLimited', 'removeLimited', 'removeLimited', 'removeLimited', 'removeLimited', 'removeLimited', 'removeLimited', 'removeLimited', 'removeLimited', 'removeLimited', 'removeLimited', 'removeLimited', 'removeLimited', 'removeLimited', 'removeLimited', 'removeLimited', 'removeLimited', 'removeLimited', 'removeLimited', 'removeLimited', 'removeLimited', 'removeLimited', 'removeLimited', 'removeLimited', 'removeLimited', 'removeLimited', 'removeLimited', 'removeLimited', 'removeLimited', 'removeLimited', 'removeLimited', 'removeLimited', 'removeLimited', 'removeLimited', 'removeLimited', 'removeLimited', 'removeLimited', 'removeLimited', 'removeLimited', 'removeLimited', 'removeLimited', 'removeLimited', 'removeLimited', 'removeLimited', 'removeLimited', 'removeLimited', 'removeLimited', 'removeLimited', 'removeLimited', 'removeLimited', 'removeLimited', 'removeLimited', 'removeLimited', 'removeLimited', 'removeLimited', 'removeLimited', 'removeLimited', 'removeLimited', 'removeLimited', 'removeLimited', 'removeLimited', 'removeLimited', 'removeLimited', 'removeLimited', 'removeLimited', 'removeNone', 'removeNone', 'removeNone', 'removeNone', 'removeNone', 'removeNone', 'removeNone', 'removeNone', 'removeNone', 'removeNone', 'removeNone', 'removeNone', 'removeNone', 'removeNone', 'removeNone', 'removeNone', 'removeNone', 'removeNone', 'removeNone', 'removeNone', 'removeNone', 'removeNone', 'removeNone', 'removeNone', 'removeNone', 'removeNone', 'removeNone', 'removeNone', 'removeNone', 'removeNone', 'removeNone', 'removeNone', 'removeNone', 'removeNone', 'removeNone', 'removeNone', 'removeNone', 'removeNone', 'removeNone', 'removeNone', 'removeNone', 'removeNone', 'removeNone', 'removeNone', 'removeNone', 'removeNone', 'removeNone', 'removeNone', 'removeNone', 'removeNone', 'removeNone', 'removeNone', 'removeNone', 'removeNone', 'removeNone', 'removeNone', 'removeNone', 'removeNone', 'removeNone', 'removeNone', 'removeNone', 'removeNone', 'removeNone', 'removeNone', 'removeNone', 'removeNone', 'removeNone', 'removeNone', 'removeNone', 'removeNone', 'removeNone', 'removeNone']\n",
      "[57888037357599.875, 57548263175059.836, 57221445030121.07, 57060859982293.15, 56905518162901.27, 56598301643221.42, 56298441734824.62, 56004707854033.79, 55716108767198.99, 55431851113670.58, 55151288771412.64, 54873884255635.39, 54599187745019.29, 54326814946158.76, 54056437850194.6, 53787769454801.54, 53520555609568.76, 53254568011276.14, 52989599412498.79, 52589800045855.586, 52198335220527.85, 51935650357495.09, 51673152310464.81, 51410695758665.84, 50884444548166.57, 50621335006052.48, 50420643676320.96, 50022381417053.9, 49564592938121.586, 49299598031849.24, 49034076174495.87, 48495473701998.81, 48232303425451.92, 47692721329620.11, 47416706424457.28, 47008171395707.06, 46598849165730.81, 46178628915655.92, 45899109627382.05, 45480512271061.555, 44911319151026.016, 44619858652652.71, 44336807684692.18, 44042334027606.56, 43606335482026.414, 43160504696531.96, 42870857728884.96, 42353641846630.77, 41906790395692.23, 41538610732967.45, 41090925887378.75, 40644132045927.84, 40345015548408.8, 39893156878917.555, 39288118021755.51, 38989077593990.28, 38527508339817.375, 38220539921055.05, 37912293123550.3, 37445267726039.97, 37137832943742.9, 36506700572335.36, 36025256109231.234, 35541837754452.53, 35213146807125.33, 34724869789501.6, 34234846519556.484, 33898387127070.01, 33570319590149.617, 32896995200073.33, 32553538199710.414, 32218565859605.555, 31871923414250.94, 31192381812628.293, 30841243703532.184, 30142798253181.156, 29787552119557.945, 29440866953038.066, 28731626779368.113, 28381062250452.74, 27664245521421.58, 27120959740145.863, 26760237709323.47, 26220059789199.363, 25670283401600.746, 25120557610156.547, 24570963210448.89, 24107545806751.71, 23694392656806.805, 23140510180312.24, 22723697169980.184, 22442755500961.215, 22023925041309.316, 21604185818760.523, 21178432908324.164, 20757452778161.53, 20333922807756.355, 19911759086872.734, 19517573610257.746, 19199248663044.953, 18774490574127.96, 18450641688190.902, 18176835831286.242, 17867624245692.777, 17533621771751.771, 17151373075882.268, 16778979421433.861, 16407580312274.828, 16047728532671.969, 15614086795551.309, 15178476405837.959, 14841738317778.7, 14454108209432.645, 14017045682100.719, 13799498690373.305, 13592032985894.941, 13300816090321.219, 13046105903019.861, 12813235052515.766, 12582895612429.23, 12253007289164.154, 12115840629122.83, 11841220166415.145, 11599335340054.277, 11287923301717.043, 10993674200361.287, 10662282796174.959, 10405052585494.066, 10159251874081.172, 9912861938298.533, 9635251915537.377, 9371100000829.79, 9197717352726.445, 9025610516699.787, 8803956822935.98, 8581998326508.911, 8359546665071.864, 8037421586015.272, 7889942372021.584, 7704097933373.175, 7444121011902.891, 7246709418627.95, 7048848330334.403, 6850979389356.716, 6678025688051.579, 6504921564114.389, 6381526774586.452, 6270275928862.307, 6085116831278.299, 5899782437041.096, 5789215644323.4375, 5666159804466.468, 5518416172637.888, 5296632357740.506, 5180082180531.127, 5051424115737.428, 4830447673751.6, 4733158267593.319, 4611277852148.236, 4517039180771.504, 4423298779740.121, 4296242552107.721, 4187695119855.9443, 4049146749870.1763, 3986252096079.45, 3923625555537.867, 3792271909518.634, 3649503022796.4204, 3578915783334.945, 3508264889631.1826, 3438050143704.172, 3329924558184.001, 3251555893578.9136, 3156542140495.892, 3067680116167.799, 3004742915881.168, 2873156757882.756, 2781783284282.1157, 2741884054490.6797, 2702015194332.05]\n"
     ]
    }
   ],
   "source": [
    "directory = '/Users/emilyflynn/Desktop/25M_tests/70M_logs'\n",
    "p = getMaxRadiusProfile(directory)\n",
    "\n",
    "s, r = getConvZones(p, False, 25)\n",
    "print(s)\n",
    "print(r)"
   ]
  },
  {
   "cell_type": "code",
   "execution_count": null,
   "metadata": {},
   "outputs": [],
   "source": []
  }
 ],
 "metadata": {
  "kernelspec": {
   "display_name": "Python 3",
   "language": "python",
   "name": "python3"
  },
  "language_info": {
   "codemirror_mode": {
    "name": "ipython",
    "version": 3
   },
   "file_extension": ".py",
   "mimetype": "text/x-python",
   "name": "python",
   "nbconvert_exporter": "python",
   "pygments_lexer": "ipython3",
   "version": "3.7.3"
  }
 },
 "nbformat": 4,
 "nbformat_minor": 2
}
