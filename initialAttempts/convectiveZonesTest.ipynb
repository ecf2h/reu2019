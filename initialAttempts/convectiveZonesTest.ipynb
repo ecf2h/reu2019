{
 "cells": [
  {
   "cell_type": "code",
   "execution_count": 1,
   "metadata": {},
   "outputs": [],
   "source": [
    "import mesa_reader as mr\n",
    "import matplotlib.pylab as plt\n",
    "import numpy as np\n",
    "import os\n",
    "from math import log\n",
    "from scipy.integrate import cumtrapz\n",
    "import math\n",
    "\n",
    "from ipynb.fs.full.functions import getMaxRadiusProfile\n",
    "from ipynb.fs.full.functions import getTConv\n",
    "from ipynb.fs.full.functions import getMaxLum\n",
    "from ipynb.fs.full.functions import getTInspiral\n",
    "from ipynb.fs.full.functions import getDragLum\n",
    "from ipynb.fs.full.functions import getR2\n",
    "from ipynb.fs.full.functions import plotTConv\n",
    "from ipynb.fs.full.functions import plotTInspiral\n",
    "from ipynb.fs.full.functions import plotMaxLum\n",
    "from ipynb.fs.full.functions import plotDragLum\n",
    "\n",
    "G = 6.67408e-11 # gravitational constant\n",
    "# change G to cgs units\n",
    "G = G * 1e3"
   ]
  },
  {
   "cell_type": "code",
   "execution_count": 2,
   "metadata": {},
   "outputs": [],
   "source": [
    "# directory = '/Users/emilyflynn/Desktop/25M_tests/15M_logs/'\n",
    "# p15 = getMaxRadiusProfile(directory)\n",
    "\n",
    "# directory = '/Users/emilyflynn/Desktop/25M_tests/20M_logs/'\n",
    "# p20 = getMaxRadiusProfile(directory)\n",
    "\n",
    "# directory = '/Users/emilyflynn/Desktop/25M_tests/25M_logs/'\n",
    "# p25 = getMaxRadiusProfile(directory)\n",
    "\n",
    "# directory = '/Users/emilyflynn/Desktop/25M_tests/30M_logs/'\n",
    "# p30 = getMaxRadiusProfile(directory)\n",
    "\n",
    "# directory = '/Users/emilyflynn/Desktop/25M_tests/40M_logs/'\n",
    "# p40 = getMaxRadiusProfile(directory)\n",
    "\n",
    "# directory = '/Users/emilyflynn/Desktop/25M_tests/50M_logs/'\n",
    "# p50 = getMaxRadiusProfile(directory)\n",
    "\n",
    "# directory = '/Users/emilyflynn/Desktop/25M_tests/60M_logs/'\n",
    "# p60 = getMaxRadiusProfile(directory)\n",
    "\n",
    "# directory = '/Users/emilyflynn/Desktop/25M_tests/70M_logs/'\n",
    "# p70 = getMaxRadiusProfile(directory)"
   ]
  },
  {
   "cell_type": "code",
   "execution_count": 3,
   "metadata": {},
   "outputs": [],
   "source": [
    "def getRadius(p, localSim):\n",
    "    \n",
    "    if localSim:\n",
    "            r = p.logR       # bring in the radius\n",
    "            r = 10**r        # un-log it\n",
    "\n",
    "    else:\n",
    "        r = p.radius     # bring in the radius\n",
    "\n",
    "    r = r*69.551e9   # change units to cm\n",
    "    r = r[100:]\n",
    "    \n",
    "    return r\n",
    "\n",
    "\n",
    "def getR2(m):\n",
    "    from math import log\n",
    "    if (m > 0.077):\n",
    "        r = m**0.92\n",
    "    elif (m < 0.0026):\n",
    "        r = 0.10045 # r_jupiter\n",
    "    else:\n",
    "        r = 0.117\n",
    "        r = r - 0.054*(log(m/0.0026)**2)\n",
    "        r = r + 0.024*(log(m/0.0026)**3)\n",
    "    return r\n",
    "\n",
    "\n",
    "# determine which situation it is\n",
    "def findZone(tconv, lconv, tinsp, ldrag):\n",
    "    if ((tconv < tinsp) and (lconv < ldrag)):\n",
    "        return 'removeAll'\n",
    "    \n",
    "    elif ((tconv < tinsp) and (lconv > ldrag)):\n",
    "        return 'removeLimited'\n",
    "    \n",
    "    elif (tconv > tinsp):\n",
    "        return 'removeNone'\n",
    "\n",
    "    \n",
    "# just get the maximum radius\n",
    "def getMaxRadius(rList):\n",
    "    return rList[0]\n",
    "\n",
    "\n",
    "# normalize the radius by dividing by the max radius\n",
    "def normalizeRadius(r, maxR):\n",
    "    normR = r / maxR\n",
    "    return normR"
   ]
  },
  {
   "cell_type": "code",
   "execution_count": 4,
   "metadata": {},
   "outputs": [
    {
     "name": "stdout",
     "output_type": "stream",
     "text": [
      "[[2.4307299020162474]]\n",
      "[array([13500])]\n",
      "-----\n",
      "[2.4307299020162474]\n",
      "13500\n",
      "Looking for the profile closest to model #13500 in /Users/emilyflynn/Desktop/1.0M_Sun/\n",
      "Actual model number: 13500\n",
      "Difference between target and actual model: 0\n",
      "File path: /Users/emilyflynn/Desktop/1.0M_Sun/LOGS/profile276.data\n",
      "\n"
     ]
    }
   ],
   "source": [
    "# make sure everything is importing okay!\n",
    "directory = '/Users/emilyflynn/Desktop/1.0M_Sun/'\n",
    "p = getMaxRadiusProfile(directory)\n",
    "\n",
    "# def plotConvZones(p, localSim, m1, m2)\n",
    "\n",
    "m2 = 0.05\n",
    "\n",
    "r = getRadius(p, True)\n",
    "maxR = getMaxRadius(r)\n",
    "\n",
    "tconv = getTConv(p)\n",
    "tinsp = getTInspiral(p, m2)\n",
    "\n",
    "maxLum = getMaxLum(p, False)\n",
    "dragLum = getDragLum(p, m2)\n",
    "\n",
    "# lengths are weird\n",
    "r = r[:-2]\n",
    "\n",
    "# get rshred and cut the arrays accordingly\n",
    "r2 = getR2(m2)\n",
    "m2 = m2*1.989e33\n",
    "r2 = r2*69.551e9\n",
    "coreMass = p.he_core_mass + p.c_core_mass + p.o_core_mass + p.si_core_mass + p.fe_core_mass\n",
    "coreMass = coreMass*1.989e33\n",
    "rshred = r2 * (2*coreMass/m2) ** (1/3)\n",
    "\n",
    "i = 0\n",
    "for x in r:\n",
    "    if x > rshred:\n",
    "        i+=1\n",
    "\n",
    "rshredded = r[:i]\n",
    "n = normalizeRadius(rshredded, maxR)\n",
    "tinsp = tinsp[:i]\n",
    "dragLum = dragLum[:i]\n",
    "tconv = tconv[:i]\n",
    "maxLum = maxLum[:i]\n",
    "\n",
    "# at this point all the arrays are done"
   ]
  },
  {
   "cell_type": "code",
   "execution_count": 12,
   "metadata": {},
   "outputs": [
    {
     "data": {
      "text/plain": [
       "(1000.0, 10000000000000.0)"
      ]
     },
     "execution_count": 12,
     "metadata": {},
     "output_type": "execute_result"
    },
    {
     "data": {
      "image/png": "[encoded data removed]",
      "text/plain": [
       "<Figure size 432x288 with 1 Axes>"
      ]
     },
     "metadata": {
      "needs_background": "light"
     },
     "output_type": "display_data"
    }
   ],
   "source": [
    "m2 = 0.05\n",
    "\n",
    "x = getTInspiral(p, m2)\n",
    "r = getRadius(p, True)\n",
    "r = r[:-2]\n",
    "\n",
    "plt.loglog(r, x)\n",
    "\n",
    "m2 = 0.1\n",
    "x = getTInspiral(p, m2)\n",
    "\n",
    "plt.loglog(r, x)\n",
    "\n",
    "plt.ylim(1e3, 1e13)"
   ]
  },
  {
   "cell_type": "code",
   "execution_count": null,
   "metadata": {},
   "outputs": [],
   "source": []
  }
 ],
 "metadata": {
  "kernelspec": {
   "display_name": "Python 3",
   "language": "python",
   "name": "python3"
  },
  "language_info": {
   "codemirror_mode": {
    "name": "ipython",
    "version": 3
   },
   "file_extension": ".py",
   "mimetype": "text/x-python",
   "name": "python",
   "nbconvert_exporter": "python",
   "pygments_lexer": "ipython3",
   "version": "3.7.3"
  }
 },
 "nbformat": 4,
 "nbformat_minor": 2
}
