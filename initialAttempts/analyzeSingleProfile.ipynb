{
 "cells": [
  {
   "cell_type": "code",
   "execution_count": 5,
   "metadata": {},
   "outputs": [],
   "source": [
    "# import as needed\n",
    "import mesa_reader as mr\n",
    "import matplotlib.pylab as plt\n",
    "import numpy as np\n",
    "import os\n",
    "import math\n",
    "from math import log\n",
    "from scipy.integrate import cumtrapz\n",
    "\n",
    "G = 6.67408e-11 # gravitational constant\n",
    "# change G to cgs units\n",
    "G = G * 1e3"
   ]
  },
  {
   "cell_type": "code",
   "execution_count": 3,
   "metadata": {},
   "outputs": [
    {
     "name": "stdout",
     "output_type": "stream",
     "text": [
      "difference: 0\n",
      "model number: 5850\n",
      "file path: /Users/emilyflynn/Desktop/1.0M_Sun/LOGS/profile121.data\n"
     ]
    }
   ],
   "source": [
    "# find and import the profile closest to your target profile\n",
    "\n",
    "# user-defined - see analyzeHistoryDataFinal to determine\n",
    "modelNumber = 5850\n",
    "\n",
    "# find all profile.index files\n",
    "filenames = []\n",
    "\n",
    "workingDirectory = '/Users/emilyflynn/Desktop/1.0M_Sun/LOGS'\n",
    "#workingDirectory = '/Users/emilyflynn/Desktop/25M_tests/70M_logs/'\n",
    "\n",
    "for root, dirs, files in os.walk(workingDirectory):\n",
    "    for file in files:\n",
    "        if file.endswith(\"profiles.index\"):\n",
    "            filenames.append(os.path.join(root, file))\n",
    "\n",
    "profiles = []\n",
    "# import files\n",
    "for file in filenames:\n",
    "    i = mr.MesaProfileIndex(file)\n",
    "    profiles.append(i)\n",
    "\n",
    "# find the closest model number - ugly but functional\n",
    "closest = 0\n",
    "diff = 1e10\n",
    "profilePath = ''\n",
    "j = 0\n",
    "for index in profiles:\n",
    "    values = index.model_numbers\n",
    "    profileNums = index.profile_numbers\n",
    "    k=0\n",
    "    for i in values:\n",
    "        if (abs(modelNumber - i) < diff):\n",
    "            diff = abs(modelNumber - i)\n",
    "            closest = i\n",
    "            og = filenames[j]\n",
    "            og = og[:-14] # put together the file name given the directory\n",
    "            profilePath = og + 'profile' + str(profileNums[k]) + '.data'\n",
    "        k+=1\n",
    "    j+=1\n",
    "\n",
    "print('difference: ' + str(diff))\n",
    "print('model number: ' + str(closest))\n",
    "print('file path: ' + str(profilePath))\n",
    "\n",
    "# import target profile\n",
    "p = mr.MesaData(profilePath)"
   ]
  },
  {
   "cell_type": "code",
   "execution_count": null,
   "metadata": {},
   "outputs": [],
   "source": [
    "# plot mass v radius\n",
    "fig, ax = plt.subplots(figsize=(15,4))\n",
    "# if radius is not in log\n",
    "plt.plot(np.log(p.radius), p.mass)\n",
    "# if radius is in log\n",
    "#plt.plot(p.logR, p.mass)\n",
    "plt.xlabel('log Radius (Rsun)')\n",
    "plt.ylabel('Mass (Msun)')\n",
    "plt.grid(True)"
   ]
  },
  {
   "cell_type": "code",
   "execution_count": null,
   "metadata": {},
   "outputs": [],
   "source": [
    "# plot density v radius\n",
    "fig, ax = plt.subplots(figsize=(15,4))\n",
    "# if radius is not in log\n",
    "plt.plot(np.log(p.radius), p.logRho)\n",
    "# if radius is in log\n",
    "#plt.plot(p.logR, p.logRho)\n",
    "plt.xlabel('log Radius (Rsun)')\n",
    "plt.ylabel('log Density')\n",
    "plt.grid(True)"
   ]
  },
  {
   "cell_type": "code",
   "execution_count": null,
   "metadata": {},
   "outputs": [],
   "source": [
    "# plot convective zones - eq. 2\n",
    "\n",
    "# get radius\n",
    "rLogForm = True\n",
    "if rLogForm:\n",
    "    r = p.logR\n",
    "    r = 10**r \n",
    "else:\n",
    "    r = p.radius\n",
    "\n",
    "r = r*69.551e9   # change units to cm\n",
    "r = r[100:]      # cut off the first 100 points - takes care of surface weirdness\n",
    "\n",
    "v = p.log_conv_vel\n",
    "v = [i if i>1e-8 else 1e-8 for i in v] # if having issues with v being too close to 0\n",
    "v = np.power(10, v) # un-log it\n",
    "v = -1/v            # it'll be integrated like this\n",
    "v = v[100:]         # cut off first 100 points\n",
    "\n",
    "# integrate\n",
    "tconv = cumtrapz(y=v, x=r)\n",
    "\n",
    "# plot\n",
    "fig, ax = plt.subplots(figsize=(6,4))\n",
    "plt.loglog(r[:-1], tconv)\n",
    "plt.xlabel('Radius (cm)')\n",
    "plt.ylabel('t_conv [s]')\n",
    "plt.ylim(1e4, 1e12)\n",
    "plt.xlim(1e9, 1e14)\n",
    "plt.grid(True)"
   ]
  },
  {
   "cell_type": "code",
   "execution_count": null,
   "metadata": {},
   "outputs": [],
   "source": [
    "# find e_bind, energy needed to strip the envelope's mass to radius r - eq. 4\n",
    "\n",
    "# get radius\n",
    "rLogForm = True\n",
    "if rLogForm:\n",
    "    r = p.logR\n",
    "    r = 10**r \n",
    "else:\n",
    "    r = p.radius\n",
    "\n",
    "r = r*69.551e9   # change units to cm\n",
    "r = r[100:]      # cut off the first 100 points - takes care of surface weirdness\n",
    "\n",
    "m = p.mass\n",
    "m = m*1.989e33   # change units to grams\n",
    "m = m[100:]      # exclude first 100 points\n",
    "\n",
    "integrand = []\n",
    "\n",
    "for i in range(len(m)):\n",
    "    x = G * m[i] / r[i]\n",
    "    integrand.append(x)\n",
    "\n",
    "ebind = cumtrapz(y=integrand, x=m)\n",
    "\n",
    "# plot\n",
    "fig, ax = plt.subplots(figsize=(6,4))\n",
    "plt.loglog(r[:-1], -ebind)\n",
    "plt.xlabel('Radius (cm)')\n",
    "plt.ylabel('e_bind [erg]')\n",
    "plt.xlim(1e9, 1e13)\n",
    "plt.ylim(1e44, 1e50)\n",
    "plt.grid(True)"
   ]
  },
  {
   "cell_type": "code",
   "execution_count": 11,
   "metadata": {},
   "outputs": [
    {
     "data": {
      "text/plain": [
       "[<matplotlib.lines.Line2D at 0x151d057908>]"
      ]
     },
     "execution_count": 11,
     "metadata": {},
     "output_type": "execute_result"
    },
    {
     "data": {
      "image/png": "[encoded data removed]",
      "text/plain": [
       "<Figure size 432x288 with 1 Axes>"
      ]
     },
     "metadata": {
      "needs_background": "light"
     },
     "output_type": "display_data"
    }
   ],
   "source": [
    "# the maximum luminosity carried by convection - eq. 7\n",
    "\n",
    "fig, ax = plt.subplots(figsize=(6,4))\n",
    "plt.xlabel('Radius (cm)')\n",
    "plt.ylabel('Lunminosity [erg/s]')\n",
    "plt.xlim(1e9, 1e14)\n",
    "plt.ylim(1e34, 1e44)\n",
    "plt.grid(True)\n",
    "\n",
    "# need: beta ~ 5, 4pi, density[r], radius, sound speed c[r]\n",
    "# define a constant, k\n",
    "k = 5 * 4 * math.pi\n",
    "\n",
    "# get density\n",
    "rho = p.logRho\n",
    "rho = 10**rho\n",
    "rho = rho[100:]\n",
    "\n",
    "# get radius\n",
    "rLogForm = True\n",
    "if rLogForm:\n",
    "    r = p.logR\n",
    "    r = 10**r \n",
    "else:\n",
    "    r = p.radius\n",
    "\n",
    "r = r*69.551e9   # change units to cm\n",
    "r = r[100:]      # cut off the first 100 points - takes care of surface weirdness\n",
    "\n",
    "# get sound speed\n",
    "c = p.csound\n",
    "c = c[100:]\n",
    "\n",
    "lumMax = k * r**2 * rho * c**3\n",
    "plt.loglog(r, lumMax)"
   ]
  },
  {
   "cell_type": "code",
   "execution_count": null,
   "metadata": {},
   "outputs": [],
   "source": []
  }
 ],
 "metadata": {
  "kernelspec": {
   "display_name": "Python 3",
   "language": "python",
   "name": "python3"
  },
  "language_info": {
   "codemirror_mode": {
    "name": "ipython",
    "version": 3
   },
   "file_extension": ".py",
   "mimetype": "text/x-python",
   "name": "python",
   "nbconvert_exporter": "python",
   "pygments_lexer": "ipython3",
   "version": "3.7.3"
  }
 },
 "nbformat": 4,
 "nbformat_minor": 2
}
