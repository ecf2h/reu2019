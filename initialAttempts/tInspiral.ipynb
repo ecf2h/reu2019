{
 "cells": [
  {
   "cell_type": "code",
   "execution_count": 1,
   "metadata": {},
   "outputs": [],
   "source": [
    "# plot one or multiple inspirals on one time-scale plot"
   ]
  },
  {
   "cell_type": "code",
   "execution_count": 3,
   "metadata": {},
   "outputs": [],
   "source": [
    "# import as needed\n",
    "import mesa_reader as mr\n",
    "import matplotlib.pylab as plt\n",
    "import numpy as np\n",
    "import os\n",
    "from math import log\n",
    "from scipy.integrate import cumtrapz\n",
    "import math\n",
    "\n",
    "# import function from another file\n",
    "from ipynb.fs.full.functions import getMaxRadiusProfile\n",
    "\n",
    "G = 6.67408e-11 # gravitational constant\n",
    "# change G to cgs units\n",
    "G = G * 1e3"
   ]
  },
  {
   "cell_type": "code",
   "execution_count": 6,
   "metadata": {},
   "outputs": [
    {
     "name": "stdout",
     "output_type": "stream",
     "text": [
      "Looking for the profile closest to model #189 in /Users/emilyflynn/Desktop/25M_tests/50M_logs/\n"
     ]
    },
    {
     "data": {
      "text/plain": [
       "<matplotlib.legend.Legend at 0x15239a5128>"
      ]
     },
     "execution_count": 6,
     "metadata": {},
     "output_type": "execute_result"
    },
    {
     "data": {
      "image/png": "[encoded data removed]",
      "text/plain": [
       "<Figure size 432x288 with 1 Axes>"
      ]
     },
     "metadata": {
      "needs_background": "light"
     },
     "output_type": "display_data"
    }
   ],
   "source": [
    "directory = '/Users/emilyflynn/Desktop/25M_tests/50M_logs/'\n",
    "p = getMaxRadiusProfile(directory)\n",
    "\n",
    "def getR2(m):\n",
    "    if (m > 0.077):\n",
    "        r = m**0.92\n",
    "    elif (m < 0.0026):\n",
    "        r = 0.10045 # r_jupiter\n",
    "    else:\n",
    "        r = 0.117\n",
    "        r = r - 0.054*(log(m/0.0026)**2)\n",
    "        r = r + 0.024*(log(m/0.0026)**3)\n",
    "    return r\n",
    "\n",
    "def plotTInspiral(p, m2, label):\n",
    "\n",
    "    coreMass = p.he_core_mass + p.c_core_mass + p.o_core_mass + p.si_core_mass + p.fe_core_mass\n",
    "    # change from Msuns to grams\n",
    "    coreMass = coreMass*1.989e33\n",
    "\n",
    "    radius = p.radius\n",
    "    radius = radius*69.551e9\n",
    "\n",
    "    # setting up constants\n",
    "    r2 = getR2(m2)\n",
    "    m2 = m2*1.989e33 # units\n",
    "    r2 = r2*69.551e9 # units\n",
    "    xi = 4\n",
    "    rshred = r2 * (2*coreMass/m2)**(1/3)\n",
    "    k = 4 * xi * math.pi * G * m2\n",
    "\n",
    "    # density\n",
    "    rho = p.logRho\n",
    "    rho = 10**rho\n",
    "\n",
    "    # masses\n",
    "    masses = p.mass\n",
    "    masses = masses*1.989e33\n",
    "\n",
    "    # keplerian velocity\n",
    "    vkep_r = np.sqrt(G * masses / radius)\n",
    "\n",
    "    # dM/dr\n",
    "    dMdr = np.diff(masses) / np.diff(radius)\n",
    "\n",
    "    # make all the array sizes the same\n",
    "    vkep_r = vkep_r[:-1]\n",
    "    radius = radius[:-1]\n",
    "    rho = rho[:-1]\n",
    "    masses = masses[:-1]\n",
    "\n",
    "    # integrand\n",
    "    integrand = (dMdr - (masses / radius)) * vkep_r / (k * radius * rho)\n",
    "\n",
    "    # look through everything in the radius array and compare it to rshred\n",
    "    # when the value is <= rshred, save that index\n",
    "    # chop the integrand and radius arrays at that index\n",
    "    tInspiralOuter = cumtrapz(y=integrand, x=radius)\n",
    "    \n",
    "    i = 0\n",
    "    for x in radius:\n",
    "        if x > rshred:\n",
    "            i+=1\n",
    "\n",
    "    radiusOuter = radius[:i]\n",
    "#     integrandOuter = integrand[:i]\n",
    "    tInspiralOuter = tInspiralOuter[:i]\n",
    "\n",
    "    # actually integrate\n",
    "#     tInspiralOuter = cumtrapz(y=integrandOuter, x=radiusOuter)\n",
    "\n",
    "    plt.loglog(np.flip(radiusOuter[100:]), tInspiralOuter[100:], label=label)\n",
    "    \n",
    "plt.ylim(1e4, 1e13)\n",
    "plt.xlim(1e9, 1e14)\n",
    "\n",
    "# for 1M\n",
    "# plotTInspiral(p, 0.002, '0.002')\n",
    "# plotTInspiral(p, 0.005, '0.005')\n",
    "# plotTInspiral(p, 0.008, '0.008')\n",
    "# plotTInspiral(p, 0.02, '0.02')\n",
    "# plotTInspiral(p, 0.05, '0.05')\n",
    "# plotTInspiral(p, 0.08, '0.08')\n",
    "# plotTInspiral(p, 0.2, '0.2')\n",
    "\n",
    "plotTInspiral(p, 0.002, '0.05')\n",
    "plotTInspiral(p, 0.005, '0.1')\n",
    "plotTInspiral(p, 0.008, '0.5')\n",
    "plotTInspiral(p, 0.02, '1')\n",
    "plotTInspiral(p, 0.05, '5')\n",
    "plotTInspiral(p, 0.08, '10')\n",
    "plotTInspiral(p, 0.2, '15')\n",
    "\n",
    "plt.legend()"
   ]
  },
  {
   "cell_type": "code",
   "execution_count": null,
   "metadata": {},
   "outputs": [],
   "source": []
  },
  {
   "cell_type": "code",
   "execution_count": null,
   "metadata": {},
   "outputs": [],
   "source": []
  }
 ],
 "metadata": {
  "kernelspec": {
   "display_name": "Python 3",
   "language": "python",
   "name": "python3"
  },
  "language_info": {
   "codemirror_mode": {
    "name": "ipython",
    "version": 3
   },
   "file_extension": ".py",
   "mimetype": "text/x-python",
   "name": "python",
   "nbconvert_exporter": "python",
   "pygments_lexer": "ipython3",
   "version": "3.7.3"
  }
 },
 "nbformat": 4,
 "nbformat_minor": 2
}
